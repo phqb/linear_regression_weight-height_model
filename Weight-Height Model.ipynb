{
 "cells": [
  {
   "attachments": {},
   "cell_type": "markdown",
   "metadata": {},
   "source": [
    "# Mô hình đoán cân nặng dựa vào chiều cao\n",
    "\n",
    "## Dữ liệu huấn luyện\n",
    "\n",
    "| Chiều cao (cm) | Cân nặng (kg) | Chiều cao (cm) | Cân nặng (kg) |\n",
    "|----------------|---------------|----------------|---------------|\n",
    "| 147            | 49            | 168            | 60            |\n",
    "| 150            | 50            | 170            | 72            |\n",
    "| 153            | 51            | 173            | 63            |\n",
    "| 158            | 54            | 175            | 64            |\n",
    "| 163            | 58            | 178            | 66            |\n",
    "| 165            | 59            | 180            | 67            |\n",
    "| 183            | 68            |                |               |\n",
    "\n",
    "## Mô hình toán học\n",
    "\n",
    "Đặt $x_i$ là chiều cao, $y_i$ là cân nặng tương ứng với $x_i$.\n",
    "\n",
    "Ta thành lập một quan hệ tuyến tính giữa chiều cao $x_i$ và cân nặng dự đoán $\\hat{y_i}$: $\\hat{y_i} = ax_i + b.$\n",
    "\n",
    "Ta cần tìm $(a, b)$ sao cho $$L(a, b) = \\sum_{i=1}^{n} (y_i - \\hat{y_i})^2$$ nhỏ nhất (Sai số giữa thực tế và dự đoán thấp nhất).\n",
    "\n",
    "$$L(a, b) = (y_1 - \\hat{y_1})^2 + (y_2 - \\hat{y_2})^2 + ... + (y_n - \\hat{y_n})^2$$\n",
    "$$= (y_1^2 + y_2^2 + ... + y_n^2) + (\\hat{y_1}^2 + \\hat{y_2}^2 + ... + \\hat{y_n}^2) - 2(y_1\\hat{y_1} + 2y_2\\hat{y_2} + ... + 2y_n\\hat{y_n})$$\n",
    "$$= (y_1^2 + y_2^2 + ... + y_n^2) + [(ax_1 + b)^2 + (ax_2 + b)^2 + ... + (ax_n + b)^2] - 2[y_1(ax_1 + b) + y_2(ax_2 + b) + ... + y_n(ax_n + b)]$$\n",
    "$$= (y_1^2 + y_2^2 + ... + y_n^2) + [(ax_1)^2 + (ax_2)^2 + ... + (ax_n)^2] + 2(ax_{1}b + ax_{2}b + ... + ax_{n}b) + nb^2 - 2(y_1ax_1 + y_2ax_2 + ... + y_nax_n) - 2(y_1b + y_2b + ... + y_nb)$$\n",
    "$$= \\sum_{i=1}^{n} y_i^2 + a^2\\sum_{i=1}^{n} x_i^2 + 2ab\\sum_{i=1}^{n} x_i + nb^2 - 2a\\sum_{i=1}^{n} x_iy_i - 2b\\sum_{i=1}^{n} y_i $$\n",
    "\n",
    "Đặt $X = \\sum_{i=1}^{n} x_i$, $X_2 = \\sum_{i=1}^{n} x_i^2$, $Y = \\sum_{i=1}^{n} y_i$, $Y_2 = \\sum_{i=1}^{n} y_i^2$, $Z = \\sum_{i=1}^{n} x_iy_i$\n",
    "\n",
    "Ta có\n",
    "$$L(a, b) = Y_2 + a^2X_2 + 2abX + nb^2 - 2aZ - 2bY$$\n",
    "\n",
    "Với $(x_i, y_i)$ từ tập dữ liệu huấn luận, ta có $L(a, b)$ là một hàm lồi.\n",
    "\n",
    "![function.png](https://cdn.pbrd.co/images/GKYM91F.png)\n",
    "\n",
    "Do đó ta có thể tìm $(a, b)$ để $L(a, b)$ đạt cực tiểu.\n",
    "\n",
    "$$\\frac{\\partial L(a, b)}{\\partial a} = 2aX_2 + 2bX - 2Z = 0 \\leftrightarrow a = \\frac{Z - bX}{X_2}$$\n",
    "\n",
    "$$\\frac{\\partial L(a, b)}{\\partial b} = 2aX + 2nb - 2Y = 0 \\leftrightarrow b = \\frac{Y - aX}{n} $$\n",
    "\n",
    "Thế $a$ vào $b$ và ngược lại, ta được\n",
    "$$a = \\frac{nZ - XY}{nX_2 - X^2}$$\n",
    "$$b = \\frac{X_2Y - XZ}{nX_2 - X^2}$$"
   ]
  },
  {
   "cell_type": "code",
   "execution_count": 45,
   "metadata": {},
   "outputs": [
    {
     "data": {
      "text/plain": [
       "(0.5592049619396673, -33.735410205807725)"
      ]
     },
     "execution_count": 45,
     "metadata": {},
     "output_type": "execute_result"
    }
   ],
   "source": [
    "weightHeightPairs = list(zip([147, 150, 153, 158, 163, 165, 168, 170, 173, 175, 178, 180, 183], [49, 50, 51,  54, 58, 59, 60, 62, 63, 64, 66, 67, 68]))\n",
    "n = len(weightHeightPairs)\n",
    "\n",
    "X  = sum(map(lambda p: p[0], weightHeightPairs))\n",
    "X2 = sum(map(lambda p: p[0]**2, weightHeightPairs))\n",
    "Y  = sum(map(lambda p: p[1], weightHeightPairs))\n",
    "Y2 = sum(map(lambda p: p[1]**2, weightHeightPairs))\n",
    "Z  = sum(map(lambda p: p[0]*p[1], weightHeightPairs))\n",
    "\n",
    "a = (n*Z - X*Y)/(n*X2 - X**2)\n",
    "b = (X2*Y - Z*X)/(n*X2 - X**2)\n",
    "(a, b)"
   ]
  },
  {
   "cell_type": "code",
   "execution_count": 47,
   "metadata": {},
   "outputs": [
    {
     "data": {
      "image/png": "[encoded data removed]",
      "text/plain": [
       "<matplotlib.figure.Figure at 0x7f698538ac88>"
      ]
     },
     "metadata": {},
     "output_type": "display_data"
    }
   ],
   "source": [
    "import matplotlib.pyplot as plt\n",
    "\n",
    "plt.axis([140, 190, 45, 75])\n",
    "plt.xlabel('Height (cm)')\n",
    "plt.ylabel('Weight (kg)')\n",
    "\n",
    "plt.plot(list(zip(*weightHeightPairs))[0], list(zip(*weightHeightPairs))[1], 'ro')\n",
    "\n",
    "p0 = (0, b)\n",
    "p1 = (190, 190*a + b)\n",
    "plt.plot(*list(zip(p0, p1)))\n",
    "\n",
    "plt.show()"
   ]
  },
  {
   "cell_type": "markdown",
   "metadata": {},
   "source": [
    "## Dữ liệu kiểm tra\n",
    "| Chiều cao (cm) | Cân nặng (kg) | Cân nặng dự đoán (cm) | Độ chính xác (%) |\n",
    "|----------------|---------------|-----------------------|------------------|\n",
    "| 155            | 52            | 52.94                 | 98.19            |\n",
    "| 160            | 56            | 55.74                 | 99.53            |\n",
    "|                |               |                       | Avg 98.86        |"
   ]
  },
  {
   "cell_type": "code",
   "execution_count": 54,
   "metadata": {},
   "outputs": [
    {
     "data": {
      "text/plain": [
       "([(52.941358894840704, 98.18969443299864),\n",
       "  (55.73738370453904, 99.531042329534)],\n",
       " 98.86036838126631)"
      ]
     },
     "execution_count": 54,
     "metadata": {},
     "output_type": "execute_result"
    }
   ],
   "source": [
    "w0, w1 = 155*a + b, 160*a + b\n",
    "p0 = (1 - abs(52 - w0)/52)*100\n",
    "p1 = (1 - abs(56 - w1)/56)*100\n",
    "\n",
    "([(w0, p0), (w1, p1)], (p0 + p1)/2)"
   ]
  }
 ],
 "metadata": {
  "kernelspec": {
   "display_name": "Python 3",
   "language": "python",
   "name": "python3"
  },
  "language_info": {
   "codemirror_mode": {
    "name": "ipython",
    "version": 3
   },
   "file_extension": ".py",
   "mimetype": "text/x-python",
   "name": "python",
   "nbconvert_exporter": "python",
   "pygments_lexer": "ipython3",
   "version": "3.6.2"
  }
 },
 "nbformat": 4,
 "nbformat_minor": 2
}
